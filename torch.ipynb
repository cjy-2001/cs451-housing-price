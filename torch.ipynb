{
 "cells": [
  {
   "cell_type": "code",
   "execution_count": 78,
   "metadata": {},
   "outputs": [
    {
     "name": "stdout",
     "output_type": "stream",
     "text": [
      "(3069, 21)\n",
      "(2980, 21)\n"
     ]
    }
   ],
   "source": [
    "import pandas as pd\n",
    "\n",
    "df = pd.read_csv('datasets/merged.csv')\n",
    "\n",
    "# Drop NAs\n",
    "print(df.shape)\n",
    "df = df.dropna()\n",
    "print(df.shape)"
   ]
  },
  {
   "attachments": {},
   "cell_type": "markdown",
   "metadata": {},
   "source": [
    "### Define custom dataset class"
   ]
  },
  {
   "cell_type": "code",
   "execution_count": 79,
   "metadata": {},
   "outputs": [],
   "source": [
    "import torch\n",
    "from torch.utils.data import Dataset\n",
    "from torch.utils.data import DataLoader\n",
    "\n",
    "class HousingDataset(Dataset):\n",
    "    def __init__(self, X, y):\n",
    "        self.X = X\n",
    "        self.y = y\n",
    "        self.transform = lambda x: torch.tensor(x, dtype=torch.float32)\n",
    "        self.target_transform = lambda y: torch.tensor(y, dtype=torch.float32)\n",
    "\n",
    "    def __len__(self):\n",
    "        return self.X.shape[0]\n",
    "\n",
    "    def __getitem__(self, idx):\n",
    "        features = self.X[idx, :]\n",
    "        label = self.y[idx, :]\n",
    "        features = self.transform(features)\n",
    "        label = self.target_transform(label)\n",
    "\n",
    "        return features, label"
   ]
  },
  {
   "cell_type": "code",
   "execution_count": 80,
   "metadata": {},
   "outputs": [],
   "source": [
    "if torch.backends.mps.is_available():\n",
    "  device = \"cpu\"\n",
    "elif torch.cuda.is_available():\n",
    "  device = \"cuda\"\n",
    "else:\n",
    "  device = \"cpu\""
   ]
  },
  {
   "cell_type": "code",
   "execution_count": 81,
   "metadata": {},
   "outputs": [],
   "source": [
    "from sklearn.model_selection import train_test_split\n",
    "\n",
    "X_cols = [\"B01003_001E\", \"B08134_001E\", \"B15012_001E\", \"B19013_001E\", \"B23025_005E\", \"B25001_001E\", \"B25002_002E\", \"ALAND\", \"AWATER\", \"INTPTLAT\", \"INTPTLONG\"]\n",
    "y_cols = [\"zhvi_2021\"]\n",
    "\n",
    "X_train, X_test, y_train, y_test = train_test_split(\n",
    "    df[X_cols], df[y_cols], test_size=0.25, random_state=42)"
   ]
  },
  {
   "attachments": {},
   "cell_type": "markdown",
   "metadata": {},
   "source": [
    "### Normalization"
   ]
  },
  {
   "cell_type": "code",
   "execution_count": 82,
   "metadata": {},
   "outputs": [],
   "source": [
    "from sklearn.preprocessing import StandardScaler\n",
    "\n",
    "scaler_X = StandardScaler()\n",
    "scaler_y = StandardScaler()\n",
    "\n",
    "X_train_normalized = scaler_X.fit_transform(X_train)\n",
    "y_train_normalized = scaler_y.fit_transform(y_train)\n",
    "\n",
    "X_test_normalized = scaler_X.transform(X_test)\n",
    "y_test_normalized = scaler_y.transform(y_test)"
   ]
  },
  {
   "attachments": {},
   "cell_type": "markdown",
   "metadata": {},
   "source": [
    "### Data loader"
   ]
  },
  {
   "cell_type": "code",
   "execution_count": 83,
   "metadata": {},
   "outputs": [],
   "source": [
    "train_dataset = HousingDataset(X_train_normalized, y_train_normalized)\n",
    "test_dataset = HousingDataset(X_test_normalized, y_test_normalized)\n",
    "\n",
    "train_loader = DataLoader(train_dataset, batch_size=32, shuffle=True)\n",
    "test_loader = DataLoader(test_dataset, batch_size=32, shuffle=False)"
   ]
  },
  {
   "attachments": {},
   "cell_type": "markdown",
   "metadata": {},
   "source": [
    "### Test with regression"
   ]
  },
  {
   "cell_type": "code",
   "execution_count": 84,
   "metadata": {},
   "outputs": [],
   "source": [
    "from torch import nn\n",
    "\n",
    "class LinearRegression(nn.Module):\n",
    "    def __init__(self):\n",
    "        super().__init__()\n",
    "        self.linear = nn.Linear(len(X_cols), 1)\n",
    "\n",
    "    def forward(self, x):\n",
    "        return self.linear(x)"
   ]
  },
  {
   "attachments": {},
   "cell_type": "markdown",
   "metadata": {},
   "source": [
    "### Construct model, loss function, and optimizer"
   ]
  },
  {
   "cell_type": "code",
   "execution_count": 85,
   "metadata": {},
   "outputs": [],
   "source": [
    "model = LinearRegression()\n",
    "loss_fn = nn.MSELoss()\n",
    "\n",
    "learning_rate = 1e-4\n",
    "optimizer = torch.optim.Adam(model.parameters(), lr=learning_rate)"
   ]
  },
  {
   "cell_type": "code",
   "execution_count": 86,
   "metadata": {},
   "outputs": [],
   "source": [
    "from matplotlib import pyplot as plt\n",
    "\n",
    "def training_loop(model, train_dataloader, val_dataloader, learning_rate, epochs):\n",
    "    train_size = len(train_dataloader.dataset)\n",
    "    val_size = len(val_dataloader.dataset)\n",
    "\n",
    "    train_loss_history = []\n",
    "    val_loss_history = []\n",
    "\n",
    "    for t in range(epochs):\n",
    "        train_loss = 0.0\n",
    "        val_loss = 0.0\n",
    "\n",
    "        for batch, (X, y) in enumerate(train_dataloader):\n",
    "            optimizer.zero_grad()\n",
    "            pred = model(X)\n",
    "            fit = loss_fn(pred, y)\n",
    "            train_loss += fit.item() / train_size\n",
    "\n",
    "            # Backpropagation\n",
    "            fit.backward()\n",
    "            optimizer.step()\n",
    "\n",
    "        train_loss_history += [train_loss]\n",
    "\n",
    "        for batch, (X, y) in enumerate(val_dataloader):\n",
    "            with torch.no_grad():\n",
    "                pred = model(X)\n",
    "                fit = loss_fn(pred, y)\n",
    "                val_loss += fit.item() / val_size\n",
    "\n",
    "        val_loss_history += [val_loss]\n",
    "\n",
    "        if t % 50 == 0:\n",
    "            print(f\"epoch {t}: val_loss = {val_loss}\")\n",
    "\n",
    "    return train_loss_history, val_loss_history\n",
    "\n",
    "def plot_histories(tlh, vlh):\n",
    "    fig, axarr = plt.subplots(1, 2, figsize=(6, 3))\n",
    "\n",
    "    axarr[0].plot(tlh, label=\"train\")\n",
    "    axarr[0].plot(vlh, label=\"validation\")\n",
    "    axarr[0].legend()\n",
    "    axarr[0].set(xlabel=\"epoch\", title=\"loss\")\n",
    "    axarr[0].semilogy()"
   ]
  },
  {
   "cell_type": "code",
   "execution_count": 87,
   "metadata": {},
   "outputs": [
    {
     "name": "stdout",
     "output_type": "stream",
     "text": [
      "epoch 0: val_loss = 0.033719335786448236\n",
      "epoch 50: val_loss = 0.02132120530477306\n",
      "epoch 100: val_loss = 0.01534836981320541\n",
      "epoch 150: val_loss = 0.013174454137782924\n",
      "epoch 200: val_loss = 0.012583943901446041\n",
      "epoch 250: val_loss = 0.012416522014861138\n",
      "epoch 300: val_loss = 0.012348909626071084\n",
      "epoch 350: val_loss = 0.012295755383952351\n",
      "epoch 400: val_loss = 0.012273818474487969\n",
      "epoch 450: val_loss = 0.012233843079349339\n"
     ]
    },
    {
     "data": {
      "image/png": "[encoded data removed]",
      "text/plain": [
       "<Figure size 600x300 with 2 Axes>"
      ]
     },
     "metadata": {},
     "output_type": "display_data"
    }
   ],
   "source": [
    "tlh, vlh = training_loop(model, train_loader, test_loader, 1e-4, 500)\n",
    "plot_histories(tlh, vlh)"
   ]
  }
 ],
 "metadata": {
  "kernelspec": {
   "display_name": "ml-0451",
   "language": "python",
   "name": "python3"
  },
  "language_info": {
   "codemirror_mode": {
    "name": "ipython",
    "version": 3
   },
   "file_extension": ".py",
   "mimetype": "text/x-python",
   "name": "python",
   "nbconvert_exporter": "python",
   "pygments_lexer": "ipython3",
   "version": "3.9.16"
  },
  "orig_nbformat": 4
 },
 "nbformat": 4,
 "nbformat_minor": 2
}
