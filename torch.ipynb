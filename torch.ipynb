{
 "cells": [
  {
   "cell_type": "code",
   "execution_count": 30,
   "metadata": {},
   "outputs": [],
   "source": [
    "import pandas as pd\n",
    "\n",
    "import warnings\n",
    "warnings.filterwarnings('ignore')\n",
    "\n",
    "df = pd.read_csv('datasets/merged.csv')\n",
    "\n",
    "from sklearn.model_selection import train_test_split\n",
    "\n",
    "df = df.dropna(subset=[\"zhvi_2021\"])\n",
    "\n",
    "X_cols = [\"B01003_001E\", \"B08134_001E\", \"B15012_001E\", \"B19013_001E\", \"B23025_005E\", \"B25001_001E\", \"B25002_002E\", \"ALAND\", \"AWATER\", \"INTPTLAT\", \"INTPTLONG\"]\n",
    "y_cols = [\"zhvi_2021\"]\n",
    "\n",
    "X_train, X_test, y_train, y_test = train_test_split(\n",
    "    df[X_cols], df[y_cols], test_size=0.25, random_state=42)"
   ]
  },
  {
   "attachments": {},
   "cell_type": "markdown",
   "metadata": {},
   "source": [
    "### Define custom dataset class"
   ]
  },
  {
   "cell_type": "code",
   "execution_count": 31,
   "metadata": {},
   "outputs": [],
   "source": [
    "import torch\n",
    "from torch.utils.data import Dataset\n",
    "from torch.utils.data import DataLoader\n",
    "\n",
    "class HousingDataset(Dataset):\n",
    "    def __init__(self, X, y):\n",
    "        self.X = X\n",
    "        self.y = y\n",
    "        self.transform = lambda x: torch.tensor(x, dtype=torch.float32)\n",
    "        self.target_transform = lambda y: torch.tensor(y, dtype=torch.float32)\n",
    "\n",
    "    def __len__(self):\n",
    "        return self.X.shape[0]\n",
    "\n",
    "    def __getitem__(self, idx):\n",
    "        features = self.X[idx, :]\n",
    "        label = self.y[idx, :]\n",
    "        features = self.transform(features)\n",
    "        label = self.target_transform(label)\n",
    "\n",
    "        return features, label"
   ]
  },
  {
   "cell_type": "code",
   "execution_count": 32,
   "metadata": {},
   "outputs": [
    {
     "name": "stdout",
     "output_type": "stream",
     "text": [
      "cpu\n"
     ]
    }
   ],
   "source": [
    "if torch.backends.mps.is_available():\n",
    "  device = \"mps\"\n",
    "elif torch.cuda.is_available():\n",
    "  device = \"cuda\"\n",
    "else:\n",
    "  device = \"cpu\"\n",
    "print(device)"
   ]
  },
  {
   "attachments": {},
   "cell_type": "markdown",
   "metadata": {},
   "source": [
    "### Normalization"
   ]
  },
  {
   "cell_type": "code",
   "execution_count": 33,
   "metadata": {},
   "outputs": [],
   "source": [
    "from sklearn.preprocessing import StandardScaler\n",
    "\n",
    "scaler_X = StandardScaler()\n",
    "scaler_y = StandardScaler()\n",
    "\n",
    "X_train_normalized = scaler_X.fit_transform(X_train)\n",
    "y_train_normalized = scaler_y.fit_transform(y_train)\n",
    "\n",
    "X_test_normalized = scaler_X.transform(X_test)\n",
    "y_test_normalized = scaler_y.transform(y_test)"
   ]
  },
  {
   "attachments": {},
   "cell_type": "markdown",
   "metadata": {},
   "source": [
    "### Data loader"
   ]
  },
  {
   "cell_type": "code",
   "execution_count": 34,
   "metadata": {},
   "outputs": [],
   "source": [
    "train_dataset = HousingDataset(X_train_normalized, y_train_normalized)\n",
    "test_dataset = HousingDataset(X_test_normalized, y_test_normalized)\n",
    "\n",
    "train_loader = DataLoader(train_dataset, batch_size=32, shuffle=True)\n",
    "test_loader = DataLoader(test_dataset, batch_size=32, shuffle=False)"
   ]
  },
  {
   "attachments": {},
   "cell_type": "markdown",
   "metadata": {},
   "source": [
    "## Linear Regression"
   ]
  },
  {
   "cell_type": "code",
   "execution_count": 35,
   "metadata": {},
   "outputs": [],
   "source": [
    "from torch import nn\n",
    "import torch.nn.functional as F\n",
    "\n",
    "class LinearRegression(nn.Module):\n",
    "    def __init__(self, input_size, hidden_size, output_size):\n",
    "        super(LinearRegression, self).__init__()\n",
    "\n",
    "        # Define the layers of the neural network\n",
    "        self.fc1 = nn.Linear(input_size, hidden_size)\n",
    "        self.fc2 = nn.Linear(hidden_size, hidden_size)\n",
    "        self.fc3 = nn.Linear(hidden_size, output_size)\n",
    "\n",
    "        # Define the activation function for the hidden layer (here we're using ReLU)\n",
    "        self.activation = nn.ReLU()\n",
    "\n",
    "    def forward(self, x):\n",
    "        x = self.activation(self.fc1(x))\n",
    "        x = self.activation(self.fc2(x))\n",
    "        x = self.fc3(x)\n",
    "        return x"
   ]
  },
  {
   "attachments": {},
   "cell_type": "markdown",
   "metadata": {},
   "source": [
    "### Construct model, loss function, and optimizer"
   ]
  },
  {
   "cell_type": "code",
   "execution_count": 36,
   "metadata": {},
   "outputs": [],
   "source": [
    "input_size = len(X_cols)\n",
    "hidden_size = 64\n",
    "output_size = 1\n",
    "\n",
    "model = LinearRegression(len(X_cols), 1000, 1)\n",
    "loss_fn = nn.MSELoss()\n",
    "\n",
    "learning_rate = 1e-3\n",
    "optimizer = torch.optim.Adam(model.parameters(), lr=learning_rate)"
   ]
  },
  {
   "cell_type": "code",
   "execution_count": 37,
   "metadata": {},
   "outputs": [],
   "source": [
    "from matplotlib import pyplot as plt\n",
    "\n",
    "def training_loop(model, train_dataloader, val_dataloader, learning_rate, epochs):\n",
    "    train_size = len(train_dataloader.dataset)\n",
    "    val_size = len(val_dataloader.dataset)\n",
    "\n",
    "    train_loss_history = []\n",
    "    val_loss_history = []\n",
    "\n",
    "    for t in range(epochs):\n",
    "        train_loss = 0.0\n",
    "        val_loss = 0.0\n",
    "\n",
    "        for batch, (X, y) in enumerate(train_dataloader):\n",
    "            optimizer.zero_grad()\n",
    "            pred = model(X)\n",
    "            fit = loss_fn(pred, y)\n",
    "            train_loss += fit.item() / train_size\n",
    "\n",
    "            # Backpropagation\n",
    "            fit.backward()\n",
    "            optimizer.step()\n",
    "\n",
    "        train_loss_history += [train_loss]\n",
    "\n",
    "        for batch, (X, y) in enumerate(val_dataloader):\n",
    "            with torch.no_grad():\n",
    "                pred = model(X)\n",
    "                fit = loss_fn(pred, y)\n",
    "                val_loss += fit.item() / val_size\n",
    "\n",
    "        val_loss_history += [val_loss]\n",
    "\n",
    "        if t % 50 == 0:\n",
    "            print(f\"epoch {t}: val_loss = {val_loss}\")\n",
    "\n",
    "    return train_loss_history, val_loss_history\n",
    "\n",
    "def plot_histories(tlh, vlh):\n",
    "    fig, ax = plt.subplots()\n",
    "\n",
    "    ax.plot(tlh, label=\"train\")\n",
    "    ax.plot(vlh, label=\"validation\")\n",
    "    ax.legend()\n",
    "    ax.set(xlabel=\"epoch\", title=\"loss\")\n",
    "    ax.semilogy()"
   ]
  },
  {
   "cell_type": "code",
   "execution_count": 38,
   "metadata": {},
   "outputs": [
    {
     "name": "stdout",
     "output_type": "stream",
     "text": [
      "epoch 0: val_loss = 0.006960835638425209\n",
      "epoch 50: val_loss = 0.005629857397632094\n",
      "epoch 100: val_loss = 0.005423748118198471\n",
      "epoch 150: val_loss = 0.005565270628558089\n",
      "epoch 200: val_loss = 0.005795165521419602\n",
      "epoch 250: val_loss = 0.0053003238723767524\n",
      "epoch 300: val_loss = 0.005777789632610927\n",
      "epoch 350: val_loss = 0.0052506490900421764\n",
      "epoch 400: val_loss = 0.005370503767634071\n",
      "epoch 450: val_loss = 0.00498258676749981\n"
     ]
    },
    {
     "data": {
      "image/png": "[encoded data removed]",
      "text/plain": [
       "<Figure size 640x480 with 1 Axes>"
      ]
     },
     "metadata": {},
     "output_type": "display_data"
    }
   ],
   "source": [
    "tlh, vlh = training_loop(model, train_loader, test_loader, 1e-4, 500)\n",
    "plot_histories(tlh, vlh)"
   ]
  },
  {
   "cell_type": "code",
   "execution_count": 39,
   "metadata": {},
   "outputs": [
    {
     "name": "stdout",
     "output_type": "stream",
     "text": [
      "Score: -2.85e+07\n",
      "MSE: 5.13960e+17\n"
     ]
    }
   ],
   "source": [
    "from sklearn.metrics import mean_squared_error, r2_score\n",
    "y_pred = model(torch.tensor(X_test.values, dtype=torch.float)).detach().numpy()\n",
    "print(f\"Score: {r2_score(y_test, y_pred):.4g}\")\n",
    "print(f\"MSE: {mean_squared_error(y_test, y_pred):.5e}\")"
   ]
  }
 ],
 "metadata": {
  "kernelspec": {
   "display_name": "Python 3.9.16 ('ml-0451')",
   "language": "python",
   "name": "python3"
  },
  "language_info": {
   "codemirror_mode": {
    "name": "ipython",
    "version": 3
   },
   "file_extension": ".py",
   "mimetype": "text/x-python",
   "name": "python",
   "nbconvert_exporter": "python",
   "pygments_lexer": "ipython3",
   "version": "3.9.16"
  },
  "orig_nbformat": 4,
  "vscode": {
   "interpreter": {
    "hash": "ed3e4449db3433f363a7bf165eb0fa84e449ea3414bef70f77e329be7a065b4e"
   }
  }
 },
 "nbformat": 4,
 "nbformat_minor": 2
}
