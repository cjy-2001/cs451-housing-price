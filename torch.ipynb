{
 "cells": [
  {
   "cell_type": "code",
   "execution_count": 1,
   "metadata": {},
   "outputs": [],
   "source": [
    "import pandas as pd\n",
    "import warnings\n",
    "warnings.filterwarnings('ignore')\n",
    "\n",
    "df = pd.read_csv('datasets/merged.csv')\n",
    "\n",
    "import seaborn as sns\n",
    "from matplotlib import font_manager\n",
    "font_manager.fontManager.addfont(\"C:\\Windows\\Fonts\\FiraSans-Regular.ttf\")\n",
    "\n",
    "sns.set_theme()\n",
    "sns.set(font=\"Fira Sans\")\n",
    "\n",
    "from sklearn.model_selection import train_test_split\n",
    "\n",
    "df = df.dropna(subset=[\"zhvi_2021\"])\n",
    "\n",
    "fields = [\"B01002_001E\", \"B01003_001E\", \"B08134_001E\", \"B15012_001E\", \"B19013_001E\", \"B19083_001E\", \"B23025_005E\", \"B25001_001E\", \"B25002_002E\", \"B25018_001E\", \"B25035_001E\", \"B25040_002E\", \"B25081_001E\"]\n",
    "\n",
    "X_cols = fields + [\"ALAND\", \"AWATER\", \"INTPTLAT\", \"INTPTLONG\"]\n",
    "y_cols = [\"zhvi_2021\"]\n",
    "\n",
    "X_train, X_test, y_train, y_test = train_test_split(\n",
    "    df[X_cols], df[y_cols], test_size=0.25, random_state=42)"
   ]
  },
  {
   "attachments": {},
   "cell_type": "markdown",
   "metadata": {},
   "source": [
    "### Define custom dataset class"
   ]
  },
  {
   "cell_type": "code",
   "execution_count": 2,
   "metadata": {},
   "outputs": [],
   "source": [
    "import torch\n",
    "from torch.utils.data import Dataset\n",
    "from torch.utils.data import DataLoader\n",
    "\n",
    "class HousingDataset(Dataset):\n",
    "    def __init__(self, X, y):\n",
    "        self.X = X\n",
    "        self.y = y\n",
    "        self.transform = lambda x: torch.tensor(x, dtype=torch.float32)\n",
    "        self.target_transform = lambda y: torch.tensor(y, dtype=torch.float32)\n",
    "\n",
    "    def __len__(self):\n",
    "        return self.X.shape[0]\n",
    "\n",
    "    def __getitem__(self, idx):\n",
    "        features = self.X.iloc[idx, :]\n",
    "        label = self.y.iloc[idx, :]\n",
    "        features = self.transform(features)\n",
    "        label = self.target_transform(label)\n",
    "\n",
    "        return features, label"
   ]
  },
  {
   "cell_type": "code",
   "execution_count": 3,
   "metadata": {},
   "outputs": [
    {
     "name": "stdout",
     "output_type": "stream",
     "text": [
      "cpu\n"
     ]
    }
   ],
   "source": [
    "if torch.backends.mps.is_available():\n",
    "  device = \"mps\"\n",
    "elif torch.cuda.is_available():\n",
    "  device = \"cuda\"\n",
    "else:\n",
    "  device = \"cpu\"\n",
    "print(device)"
   ]
  },
  {
   "attachments": {},
   "cell_type": "markdown",
   "metadata": {},
   "source": [
    "### Normalization"
   ]
  },
  {
   "cell_type": "code",
   "execution_count": 4,
   "metadata": {},
   "outputs": [],
   "source": [
    "from sklearn.preprocessing import StandardScaler\n",
    "\n",
    "scaler_X = StandardScaler()\n",
    "scaler_y = StandardScaler()\n",
    "\n",
    "X_train_normalized = scaler_X.fit_transform(X_train)\n",
    "y_train_normalized = scaler_y.fit_transform(y_train)\n",
    "\n",
    "X_test_normalized = scaler_X.transform(X_test)\n",
    "y_test_normalized = scaler_y.transform(y_test)"
   ]
  },
  {
   "attachments": {},
   "cell_type": "markdown",
   "metadata": {},
   "source": [
    "### Data loader"
   ]
  },
  {
   "cell_type": "code",
   "execution_count": 5,
   "metadata": {},
   "outputs": [],
   "source": [
    "train_dataset = HousingDataset(X_train, y_train)\n",
    "test_dataset = HousingDataset(X_test, y_test)\n",
    "\n",
    "train_loader = DataLoader(train_dataset, batch_size=32, shuffle=True)\n",
    "test_loader = DataLoader(test_dataset, batch_size=32, shuffle=False)"
   ]
  },
  {
   "attachments": {},
   "cell_type": "markdown",
   "metadata": {},
   "source": [
    "## Linear Regression"
   ]
  },
  {
   "cell_type": "code",
   "execution_count": 6,
   "metadata": {},
   "outputs": [],
   "source": [
    "from torch import nn\n",
    "import torch.nn.functional as F\n",
    "\n",
    "class LinearRegression(nn.Module):\n",
    "    def __init__(self, input_size, hidden_size, output_size, num_hidden_layers):\n",
    "        super(LinearRegression, self).__init__()\n",
    "\n",
    "        self.input_layer = nn.Linear(input_size, hidden_size)\n",
    "        self.output_layer = nn.Linear(hidden_size, output_size)\n",
    "\n",
    "        self.hidden_layers = nn.ModuleList()\n",
    "        for _ in range(num_hidden_layers):\n",
    "            self.hidden_layers.append(nn.Linear(hidden_size, hidden_size))\n",
    "\n",
    "        self.activation = nn.ReLU()\n",
    "\n",
    "    def forward(self, x):\n",
    "        x = self.activation(self.input_layer(x))\n",
    "        for hidden_layer in self.hidden_layers:\n",
    "            x = self.activation(hidden_layer(x))\n",
    "        x = self.output_layer(x)\n",
    "        return x"
   ]
  },
  {
   "attachments": {},
   "cell_type": "markdown",
   "metadata": {},
   "source": [
    "### Construct model, loss function, and optimizer"
   ]
  },
  {
   "cell_type": "code",
   "execution_count": 7,
   "metadata": {},
   "outputs": [],
   "source": [
    "input_size = len(X_cols)\n",
    "hidden_size = 64\n",
    "output_size = 1\n",
    "\n",
    "model = LinearRegression(input_size, hidden_size, output_size, num_hidden_layers=6)\n",
    "loss_fn = nn.MSELoss()\n",
    "\n",
    "learning_rate = 1e-4\n",
    "weight_decay = 1e-4  # Adjust this value for L2 regularization strength\n",
    "optimizer = torch.optim.Adam(model.parameters(), lr=learning_rate,weight_decay=weight_decay)"
   ]
  },
  {
   "cell_type": "code",
   "execution_count": 8,
   "metadata": {},
   "outputs": [],
   "source": [
    "from matplotlib import pyplot as plt\n",
    "\n",
    "def training_loop(model, train_dataloader, val_dataloader, learning_rate, epochs, l1_lambda):\n",
    "    train_size = len(train_dataloader.dataset)\n",
    "    val_size = len(val_dataloader.dataset)\n",
    "\n",
    "    train_loss_history = []\n",
    "    val_loss_history = []\n",
    "\n",
    "    for t in range(epochs):\n",
    "        train_loss = 0.0\n",
    "        val_loss = 0.0\n",
    "\n",
    "        for batch, (X, y) in enumerate(train_dataloader):\n",
    "            optimizer.zero_grad()\n",
    "            pred = model(X)\n",
    "            fit = loss_fn(pred, y)\n",
    "\n",
    "            # Add L1 regularization\n",
    "            l1_reg = torch.tensor(0., requires_grad=True)\n",
    "            for param in model.parameters():\n",
    "                l1_reg = l1_reg + torch.norm(param, 1)\n",
    "            fit = fit + l1_lambda * l1_reg\n",
    "\n",
    "            train_loss += fit.item() / train_size\n",
    "\n",
    "            # Backpropagation\n",
    "            fit.backward()\n",
    "            optimizer.step()\n",
    "\n",
    "        train_loss_history += [train_loss]\n",
    "\n",
    "        for batch, (X, y) in enumerate(val_dataloader):\n",
    "            with torch.no_grad():\n",
    "                pred = model(X)\n",
    "                fit = loss_fn(pred, y)\n",
    "                val_loss += fit.item() / val_size\n",
    "\n",
    "        val_loss_history += [val_loss]\n",
    "\n",
    "        if t % 50 == 0:\n",
    "            print(f\"epoch {t:0>3}: val_loss = {val_loss:5g}\")\n",
    "\n",
    "    return train_loss_history, val_loss_history\n",
    "\n",
    "def plot_histories(tlh, vlh):\n",
    "    fig, ax = plt.subplots()\n",
    "\n",
    "    ax.plot(tlh, label=\"train\")\n",
    "    ax.plot(vlh, label=\"validation\")\n",
    "    ax.legend()\n",
    "    ax.set(xlabel=\"Epoch\", ylabel=\"Loss\")\n",
    "    ax.semilogy()"
   ]
  },
  {
   "cell_type": "code",
   "execution_count": 9,
   "metadata": {},
   "outputs": [
    {
     "name": "stdout",
     "output_type": "stream",
     "text": [
      "epoch 000: val_loss = 1.76887e+09\n",
      "epoch 050: val_loss = 2.88288e+08\n",
      "epoch 100: val_loss = 2.92384e+08\n",
      "epoch 150: val_loss = 2.78924e+08\n",
      "epoch 200: val_loss = 2.75191e+08\n",
      "epoch 250: val_loss = 2.73098e+08\n",
      "epoch 300: val_loss = 2.62659e+08\n",
      "epoch 350: val_loss = 2.76653e+08\n",
      "epoch 400: val_loss = 2.59071e+08\n",
      "epoch 450: val_loss = 2.56308e+08\n"
     ]
    },
    {
     "data": {
      "image/png": "[encoded data removed]",
      "text/plain": [
       "<Figure size 640x480 with 1 Axes>"
      ]
     },
     "metadata": {},
     "output_type": "display_data"
    }
   ],
   "source": [
    "l1_lambda = 1e-4  # Adjust this value for L1 regularization strength\n",
    "tlh, vlh = training_loop(model, train_loader, test_loader, 1e-4, 500, l1_lambda=1e-4)\n",
    "plot_histories(tlh, vlh)"
   ]
  },
  {
   "cell_type": "code",
   "execution_count": 10,
   "metadata": {},
   "outputs": [
    {
     "name": "stdout",
     "output_type": "stream",
     "text": [
      "Score: 0.5231\n",
      "MSE: 8.60080e+09\n"
     ]
    }
   ],
   "source": [
    "from sklearn.metrics import mean_squared_error, r2_score\n",
    "y_pred = model(torch.tensor(X_test.values, dtype=torch.float)).detach().numpy()\n",
    "print(f\"Score: {r2_score(y_test, y_pred):.4g}\")\n",
    "print(f\"MSE: {mean_squared_error(y_test, y_pred):.5e}\")"
   ]
  }
 ],
 "metadata": {
  "kernelspec": {
   "display_name": "Python 3.9.16 ('ml-0451')",
   "language": "python",
   "name": "python3"
  },
  "language_info": {
   "codemirror_mode": {
    "name": "ipython",
    "version": 3
   },
   "file_extension": ".py",
   "mimetype": "text/x-python",
   "name": "python",
   "nbconvert_exporter": "python",
   "pygments_lexer": "ipython3",
   "version": "3.9.16"
  },
  "orig_nbformat": 4,
  "vscode": {
   "interpreter": {
    "hash": "ed3e4449db3433f363a7bf165eb0fa84e449ea3414bef70f77e329be7a065b4e"
   }
  }
 },
 "nbformat": 4,
 "nbformat_minor": 2
}
