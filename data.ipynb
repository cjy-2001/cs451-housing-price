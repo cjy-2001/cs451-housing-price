{
 "cells": [
  {
   "cell_type": "code",
   "execution_count": 7,
   "metadata": {},
   "outputs": [
    {
     "name": "stderr",
     "output_type": "stream",
     "text": [
      "c:\\Users\\User\\anaconda3\\envs\\ml-0451\\lib\\site-packages\\fuzzywuzzy\\fuzz.py:11: UserWarning: Using slow pure-python SequenceMatcher. Install python-Levenshtein to remove this warning\n",
      "  warnings.warn('Using slow pure-python SequenceMatcher. Install python-Levenshtein to remove this warning')\n"
     ]
    }
   ],
   "source": [
    "import pandas as pd\n",
    "from census import Census\n",
    "from uszipcode import SearchEngine"
   ]
  },
  {
   "cell_type": "code",
   "execution_count": 3,
   "metadata": {},
   "outputs": [],
   "source": [
    "import os\n",
    "from dotenv import load_dotenv\n",
    "\n",
    "# Hide API key\n",
    "load_dotenv()\n",
    "\n",
    "API_KEY=os.getenv('api_key')"
   ]
  },
  {
   "cell_type": "code",
   "execution_count": null,
   "metadata": {},
   "outputs": [
    {
     "name": "stdout",
     "output_type": "stream",
     "text": [
      "   Population               County Name State FIPS County FIPS\n",
      "0     21565.0  Fayette County, Illinois         17         051\n",
      "1     29003.0    Logan County, Illinois         17         107\n",
      "2     23994.0   Saline County, Illinois         17         165\n",
      "3    701473.0     Lake County, Illinois         17         097\n",
      "4     14219.0   Massac County, Illinois         17         127\n"
     ]
    }
   ],
   "source": [
    "# County FIPS\n",
    "fields = ['B01003_001E', 'NAME']\n",
    "\n",
    "c = Census(API_KEY, year=2019)\n",
    "data = c.acs5.get(fields, geo={'for': 'county:*'})\n",
    "df = pd.DataFrame(data)\n",
    "df.rename(columns={'B01003_001E': 'Population', 'NAME': 'County Name', 'state': 'State FIPS', 'county': 'County FIPS'}, inplace=True)\n",
    "\n",
    "print(df.head())"
   ]
  },
  {
   "cell_type": "code",
   "execution_count": 13,
   "metadata": {},
   "outputs": [
    {
     "name": "stdout",
     "output_type": "stream",
     "text": [
      "        county county_ascii         county_full  county_fips state_id  \\\n",
      "0  Los Angeles  Los Angeles  Los Angeles County         6037       CA   \n",
      "1         Cook         Cook         Cook County        17031       IL   \n",
      "2       Harris       Harris       Harris County        48201       TX   \n",
      "3     Maricopa     Maricopa     Maricopa County         4013       AZ   \n",
      "4    San Diego    San Diego    San Diego County         6073       CA   \n",
      "\n",
      "   state_name      lat       lng  population  \n",
      "0  California  34.3209 -118.2247    10019635  \n",
      "1    Illinois  41.8401  -87.8168     5265398  \n",
      "2       Texas  29.8577  -95.3936     4697957  \n",
      "3     Arizona  33.3490 -112.4915     4367186  \n",
      "4  California  33.0343 -116.7350     3296317  \n"
     ]
    }
   ],
   "source": [
    "# Longitude and Latitude\n",
    "path = \"uscounties.csv\"\n",
    "df = pd.read_csv(path)\n",
    "\n",
    "print(df.head())"
   ]
  }
 ],
 "metadata": {
  "kernelspec": {
   "display_name": "ml-0451",
   "language": "python",
   "name": "python3"
  },
  "language_info": {
   "codemirror_mode": {
    "name": "ipython",
    "version": 3
   },
   "file_extension": ".py",
   "mimetype": "text/x-python",
   "name": "python",
   "nbconvert_exporter": "python",
   "pygments_lexer": "ipython3",
   "version": "3.9.16"
  },
  "orig_nbformat": 4
 },
 "nbformat": 4,
 "nbformat_minor": 2
}
