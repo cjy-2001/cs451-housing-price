{
 "cells": [
  {
   "cell_type": "code",
   "execution_count": 14,
   "metadata": {},
   "outputs": [],
   "source": [
    "import pandas as pd\n",
    "from census import Census"
   ]
  },
  {
   "cell_type": "code",
   "execution_count": 15,
   "metadata": {},
   "outputs": [],
   "source": [
    "import os\n",
    "from dotenv import load_dotenv\n",
    "\n",
    "load_dotenv()\n",
    "\n",
    "API_KEY=os.getenv('api_key')"
   ]
  },
  {
   "cell_type": "code",
   "execution_count": 16,
   "metadata": {},
   "outputs": [
    {
     "ename": "KeyboardInterrupt",
     "evalue": "",
     "output_type": "error",
     "traceback": [
      "\u001b[1;31m---------------------------------------------------------------------------\u001b[0m",
      "\u001b[1;31mKeyboardInterrupt\u001b[0m                         Traceback (most recent call last)",
      "Cell \u001b[1;32mIn[16], line 7\u001b[0m\n\u001b[0;32m      1\u001b[0m STATE \u001b[39m=\u001b[39m \u001b[39m\"\u001b[39m\u001b[39mAL\u001b[39m\u001b[39m\"\u001b[39m\n\u001b[0;32m      3\u001b[0m data_source \u001b[39m=\u001b[39m ACSDataSource(survey_year\u001b[39m=\u001b[39m\u001b[39m'\u001b[39m\u001b[39m2021\u001b[39m\u001b[39m'\u001b[39m, \n\u001b[0;32m      4\u001b[0m                             horizon\u001b[39m=\u001b[39m\u001b[39m'\u001b[39m\u001b[39m1-Year\u001b[39m\u001b[39m'\u001b[39m, \n\u001b[0;32m      5\u001b[0m                             survey\u001b[39m=\u001b[39m\u001b[39m'\u001b[39m\u001b[39mperson\u001b[39m\u001b[39m'\u001b[39m)\n\u001b[1;32m----> 7\u001b[0m acs_data \u001b[39m=\u001b[39m data_source\u001b[39m.\u001b[39;49mget_data(download\u001b[39m=\u001b[39;49m\u001b[39mTrue\u001b[39;49;00m)\n\u001b[0;32m      9\u001b[0m acs_data\u001b[39m.\u001b[39mhead()\n",
      "File \u001b[1;32mc:\\Users\\User\\anaconda3\\envs\\ml-0451\\lib\\site-packages\\folktables\\acs.py:32\u001b[0m, in \u001b[0;36mACSDataSource.get_data\u001b[1;34m(self, states, density, random_seed, join_household, download)\u001b[0m\n\u001b[0;32m     30\u001b[0m \u001b[39mdef\u001b[39;00m \u001b[39mget_data\u001b[39m(\u001b[39mself\u001b[39m, states\u001b[39m=\u001b[39m\u001b[39mNone\u001b[39;00m, density\u001b[39m=\u001b[39m\u001b[39m1.0\u001b[39m, random_seed\u001b[39m=\u001b[39m\u001b[39m0\u001b[39m, join_household\u001b[39m=\u001b[39m\u001b[39mFalse\u001b[39;00m, download\u001b[39m=\u001b[39m\u001b[39mFalse\u001b[39;00m):\n\u001b[0;32m     31\u001b[0m     \u001b[39m\"\"\"Get data from given list of states, density, and random seed. Optionally add household features.\"\"\"\u001b[39;00m\n\u001b[1;32m---> 32\u001b[0m     data \u001b[39m=\u001b[39m load_acs(root_dir\u001b[39m=\u001b[39;49m\u001b[39mself\u001b[39;49m\u001b[39m.\u001b[39;49m_root_dir,\n\u001b[0;32m     33\u001b[0m                     year\u001b[39m=\u001b[39;49m\u001b[39mself\u001b[39;49m\u001b[39m.\u001b[39;49m_survey_year,\n\u001b[0;32m     34\u001b[0m                     states\u001b[39m=\u001b[39;49mstates,\n\u001b[0;32m     35\u001b[0m                     horizon\u001b[39m=\u001b[39;49m\u001b[39mself\u001b[39;49m\u001b[39m.\u001b[39;49m_horizon,\n\u001b[0;32m     36\u001b[0m                     survey\u001b[39m=\u001b[39;49m\u001b[39mself\u001b[39;49m\u001b[39m.\u001b[39;49m_survey,\n\u001b[0;32m     37\u001b[0m                     density\u001b[39m=\u001b[39;49mdensity,\n\u001b[0;32m     38\u001b[0m                     random_seed\u001b[39m=\u001b[39;49mrandom_seed,\n\u001b[0;32m     39\u001b[0m                     download\u001b[39m=\u001b[39;49mdownload)\n\u001b[0;32m     40\u001b[0m     \u001b[39mif\u001b[39;00m join_household:\n\u001b[0;32m     41\u001b[0m         orig_len \u001b[39m=\u001b[39m \u001b[39mlen\u001b[39m(data)\n",
      "File \u001b[1;32mc:\\Users\\User\\anaconda3\\envs\\ml-0451\\lib\\site-packages\\folktables\\load_acs.py:145\u001b[0m, in \u001b[0;36mload_acs\u001b[1;34m(root_dir, states, year, horizon, survey, density, random_seed, serial_filter_list, download)\u001b[0m\n\u001b[0;32m    141\u001b[0m sample\u001b[39m.\u001b[39mseek(\u001b[39m0\u001b[39m)\n\u001b[0;32m    143\u001b[0m dtypes \u001b[39m=\u001b[39m {\u001b[39m'\u001b[39m\u001b[39mPINCP\u001b[39m\u001b[39m'\u001b[39m : np\u001b[39m.\u001b[39mfloat64, \u001b[39m'\u001b[39m\u001b[39mRT\u001b[39m\u001b[39m'\u001b[39m : \u001b[39mstr\u001b[39m, \u001b[39m'\u001b[39m\u001b[39mSOCP\u001b[39m\u001b[39m'\u001b[39m : \u001b[39mstr\u001b[39m, \u001b[39m'\u001b[39m\u001b[39mSERIALNO\u001b[39m\u001b[39m'\u001b[39m : \u001b[39mstr\u001b[39m, \u001b[39m'\u001b[39m\u001b[39mNAICSP\u001b[39m\u001b[39m'\u001b[39m : \u001b[39mstr\u001b[39m}\n\u001b[1;32m--> 145\u001b[0m \u001b[39mreturn\u001b[39;00m pd\u001b[39m.\u001b[39;49mread_csv(sample, dtype\u001b[39m=\u001b[39;49mdtypes)\n",
      "File \u001b[1;32mc:\\Users\\User\\anaconda3\\envs\\ml-0451\\lib\\site-packages\\pandas\\io\\parsers.py:610\u001b[0m, in \u001b[0;36mread_csv\u001b[1;34m(filepath_or_buffer, sep, delimiter, header, names, index_col, usecols, squeeze, prefix, mangle_dupe_cols, dtype, engine, converters, true_values, false_values, skipinitialspace, skiprows, skipfooter, nrows, na_values, keep_default_na, na_filter, verbose, skip_blank_lines, parse_dates, infer_datetime_format, keep_date_col, date_parser, dayfirst, cache_dates, iterator, chunksize, compression, thousands, decimal, lineterminator, quotechar, quoting, doublequote, escapechar, comment, encoding, dialect, error_bad_lines, warn_bad_lines, delim_whitespace, low_memory, memory_map, float_precision, storage_options)\u001b[0m\n\u001b[0;32m    605\u001b[0m kwds_defaults \u001b[39m=\u001b[39m _refine_defaults_read(\n\u001b[0;32m    606\u001b[0m     dialect, delimiter, delim_whitespace, engine, sep, defaults\u001b[39m=\u001b[39m{\u001b[39m\"\u001b[39m\u001b[39mdelimiter\u001b[39m\u001b[39m\"\u001b[39m: \u001b[39m\"\u001b[39m\u001b[39m,\u001b[39m\u001b[39m\"\u001b[39m}\n\u001b[0;32m    607\u001b[0m )\n\u001b[0;32m    608\u001b[0m kwds\u001b[39m.\u001b[39mupdate(kwds_defaults)\n\u001b[1;32m--> 610\u001b[0m \u001b[39mreturn\u001b[39;00m _read(filepath_or_buffer, kwds)\n",
      "File \u001b[1;32mc:\\Users\\User\\anaconda3\\envs\\ml-0451\\lib\\site-packages\\pandas\\io\\parsers.py:462\u001b[0m, in \u001b[0;36m_read\u001b[1;34m(filepath_or_buffer, kwds)\u001b[0m\n\u001b[0;32m    459\u001b[0m _validate_names(kwds\u001b[39m.\u001b[39mget(\u001b[39m\"\u001b[39m\u001b[39mnames\u001b[39m\u001b[39m\"\u001b[39m, \u001b[39mNone\u001b[39;00m))\n\u001b[0;32m    461\u001b[0m \u001b[39m# Create the parser.\u001b[39;00m\n\u001b[1;32m--> 462\u001b[0m parser \u001b[39m=\u001b[39m TextFileReader(filepath_or_buffer, \u001b[39m*\u001b[39m\u001b[39m*\u001b[39mkwds)\n\u001b[0;32m    464\u001b[0m \u001b[39mif\u001b[39;00m chunksize \u001b[39mor\u001b[39;00m iterator:\n\u001b[0;32m    465\u001b[0m     \u001b[39mreturn\u001b[39;00m parser\n",
      "File \u001b[1;32mc:\\Users\\User\\anaconda3\\envs\\ml-0451\\lib\\site-packages\\pandas\\io\\parsers.py:819\u001b[0m, in \u001b[0;36mTextFileReader.__init__\u001b[1;34m(self, f, engine, **kwds)\u001b[0m\n\u001b[0;32m    816\u001b[0m \u001b[39mif\u001b[39;00m \u001b[39m\"\u001b[39m\u001b[39mhas_index_names\u001b[39m\u001b[39m\"\u001b[39m \u001b[39min\u001b[39;00m kwds:\n\u001b[0;32m    817\u001b[0m     \u001b[39mself\u001b[39m\u001b[39m.\u001b[39moptions[\u001b[39m\"\u001b[39m\u001b[39mhas_index_names\u001b[39m\u001b[39m\"\u001b[39m] \u001b[39m=\u001b[39m kwds[\u001b[39m\"\u001b[39m\u001b[39mhas_index_names\u001b[39m\u001b[39m\"\u001b[39m]\n\u001b[1;32m--> 819\u001b[0m \u001b[39mself\u001b[39m\u001b[39m.\u001b[39m_engine \u001b[39m=\u001b[39m \u001b[39mself\u001b[39;49m\u001b[39m.\u001b[39;49m_make_engine(\u001b[39mself\u001b[39;49m\u001b[39m.\u001b[39;49mengine)\n",
      "File \u001b[1;32mc:\\Users\\User\\anaconda3\\envs\\ml-0451\\lib\\site-packages\\pandas\\io\\parsers.py:1050\u001b[0m, in \u001b[0;36mTextFileReader._make_engine\u001b[1;34m(self, engine)\u001b[0m\n\u001b[0;32m   1046\u001b[0m     \u001b[39mraise\u001b[39;00m \u001b[39mValueError\u001b[39;00m(\n\u001b[0;32m   1047\u001b[0m         \u001b[39mf\u001b[39m\u001b[39m\"\u001b[39m\u001b[39mUnknown engine: \u001b[39m\u001b[39m{\u001b[39;00mengine\u001b[39m}\u001b[39;00m\u001b[39m (valid options are \u001b[39m\u001b[39m{\u001b[39;00mmapping\u001b[39m.\u001b[39mkeys()\u001b[39m}\u001b[39;00m\u001b[39m)\u001b[39m\u001b[39m\"\u001b[39m\n\u001b[0;32m   1048\u001b[0m     )\n\u001b[0;32m   1049\u001b[0m \u001b[39m# error: Too many arguments for \"ParserBase\"\u001b[39;00m\n\u001b[1;32m-> 1050\u001b[0m \u001b[39mreturn\u001b[39;00m mapping[engine](\u001b[39mself\u001b[39m\u001b[39m.\u001b[39mf, \u001b[39m*\u001b[39m\u001b[39m*\u001b[39m\u001b[39mself\u001b[39m\u001b[39m.\u001b[39moptions)\n",
      "File \u001b[1;32mc:\\Users\\User\\anaconda3\\envs\\ml-0451\\lib\\site-packages\\pandas\\io\\parsers.py:1898\u001b[0m, in \u001b[0;36mCParserWrapper.__init__\u001b[1;34m(self, src, **kwds)\u001b[0m\n\u001b[0;32m   1895\u001b[0m     \u001b[39mself\u001b[39m\u001b[39m.\u001b[39mhandles\u001b[39m.\u001b[39mhandle \u001b[39m=\u001b[39m \u001b[39mself\u001b[39m\u001b[39m.\u001b[39mhandles\u001b[39m.\u001b[39mhandle\u001b[39m.\u001b[39mmmap  \u001b[39m# type: ignore[union-attr]\u001b[39;00m\n\u001b[0;32m   1897\u001b[0m \u001b[39mtry\u001b[39;00m:\n\u001b[1;32m-> 1898\u001b[0m     \u001b[39mself\u001b[39m\u001b[39m.\u001b[39m_reader \u001b[39m=\u001b[39m parsers\u001b[39m.\u001b[39mTextReader(\u001b[39mself\u001b[39m\u001b[39m.\u001b[39mhandles\u001b[39m.\u001b[39mhandle, \u001b[39m*\u001b[39m\u001b[39m*\u001b[39mkwds)\n\u001b[0;32m   1899\u001b[0m \u001b[39mexcept\u001b[39;00m \u001b[39mException\u001b[39;00m:\n\u001b[0;32m   1900\u001b[0m     \u001b[39mself\u001b[39m\u001b[39m.\u001b[39mhandles\u001b[39m.\u001b[39mclose()\n",
      "\u001b[1;31mKeyboardInterrupt\u001b[0m: "
     ]
    }
   ],
   "source": [
    "STATE = \"AL\"\n",
    "\n",
    "data_source = ACSDataSource(survey_year='2021', \n",
    "                            horizon='1-Year', \n",
    "                            survey='person')\n",
    "\n",
    "acs_data = data_source.get_data(download=True)\n",
    "\n",
    "acs_data.head()"
   ]
  },
  {
   "cell_type": "code",
   "execution_count": 18,
   "metadata": {},
   "outputs": [
    {
     "name": "stdout",
     "output_type": "stream",
     "text": [
      "   Population               County Name State FIPS County FIPS\n",
      "0     21565.0  Fayette County, Illinois         17         051\n",
      "1     29003.0    Logan County, Illinois         17         107\n",
      "2     23994.0   Saline County, Illinois         17         165\n",
      "3    701473.0     Lake County, Illinois         17         097\n",
      "4     14219.0   Massac County, Illinois         17         127\n"
     ]
    }
   ],
   "source": [
    "fields = ['B01003_001E', 'NAME']\n",
    "\n",
    "c = Census(API_KEY, year=2019)\n",
    "data = c.acs5.get(fields, geo={'for': 'county:*'})\n",
    "df = pd.DataFrame(data)\n",
    "df.rename(columns={'B01003_001E': 'Population', 'NAME': 'County Name', 'state': 'State FIPS', 'county': 'County FIPS'}, inplace=True)\n",
    "\n",
    "print(df.head())"
   ]
  }
 ],
 "metadata": {
  "kernelspec": {
   "display_name": "ml-0451",
   "language": "python",
   "name": "python3"
  },
  "language_info": {
   "codemirror_mode": {
    "name": "ipython",
    "version": 3
   },
   "file_extension": ".py",
   "mimetype": "text/x-python",
   "name": "python",
   "nbconvert_exporter": "python",
   "pygments_lexer": "ipython3",
   "version": "3.9.16"
  },
  "orig_nbformat": 4
 },
 "nbformat": 4,
 "nbformat_minor": 2
}
