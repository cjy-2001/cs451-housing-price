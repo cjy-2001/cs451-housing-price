{
 "cells": [
  {
   "cell_type": "raw",
   "metadata": {},
   "source": [
    "---\n",
    "title: Predicting Housing Price\n",
    "author: Jiayi Chen & Bell Luo\n",
    "date: '2023-05-19'\n",
    "image: \"cover.png\"\n",
    "description: \"In the final project, Bell and I formed a team and decided on a research topic: Housing Price Prediction.\n",
    "    It has been a valuable learning experience in terms of implementing machine learning algorithms and conducting real-world data analysis.\"\n",
    "format: html\n",
    "toc: true\n",
    "---"
   ]
  },
  {
   "attachments": {},
   "cell_type": "markdown",
   "metadata": {},
   "source": [
    "## **Summary**\n",
    "\n",
    "This blog post consists of 8 sections:\n",
    "\n",
    "- Abstract\n",
    "\n",
    "- Introduction\n",
    "\n",
    "- Value Statement\n",
    "\n",
    "- Material and Methods\n",
    "\n",
    "- Results\n",
    "\n",
    "- Concluding Discussion\n",
    "\n",
    "- Group Contribution Statement\n",
    "\n",
    "- Personal Reflection"
   ]
  },
  {
   "attachments": {},
   "cell_type": "markdown",
   "metadata": {},
   "source": [
    "### **Abstract**\n",
    "\n",
    "This project aims to use machine learning techniques to analyze and predict housing prices across different counties in the United States, with a focus on understanding the similarities and differences in housing factors between different counties. Instead of using existing dataset, we have identified many relevant datasets and successfully merged them into one. We have built several models, including both classical models and Neural Networks (through Pytorch), and found that the Random Forest model tends to have the highest accuracy. Those models helped us to identify some common factors such as median income, longitude, and education attainment that affect housing prices the most.\n",
    "\n",
    "- The [link](https://github.com/doabell/451-proj) to our Github repository."
   ]
  },
  {
   "attachments": {},
   "cell_type": "markdown",
   "metadata": {},
   "source": [
    "### **Introduction**\n",
    "\n",
    "Housing affordability is important in discussions of inequality, so the overall goal of this project is to analyze the relationship between housing prices, demographic, and socioeconomic factors across counties. We believe our project can inform and empower potential house buyers, sellers, renters, city planners, etc."
   ]
  },
  {
   "attachments": {},
   "cell_type": "markdown",
   "metadata": {},
   "source": [
    "### **Value Statement**\n",
    "\n",
    "**Potentially benefit**:\n",
    "\n",
    "- Potential home-buyers and renters can make informed decisions when purchasing properties\n",
    "- Real estate professionals can provide better guidance to their clients\n",
    "- Urban planners and policymakers can make more informed decisions regarding zoning, land use, and housing policies\n",
    "- Social workers can identify drivers of inequality in housing and rent prices and prioritize advocating for change in these key areas\n",
    "\n",
    "**Potentially excluded from benefit or harmed**:\n",
    "\n",
    "- Marginalized populations may be under or misrepresented in the data, so our model may not accurately reflect their needs and wants\n",
    "- Inaccurate predictions leading to incorrect conclusions about a region and/or suboptimal buying/renting decisions\n",
    "\n",
    "**Personal Reasons**:\n",
    "\n",
    "I chose this project because I believe a healthy house market is essential for the growth of an economy. It is relevant to everyone, so I'm interested in exploring those possible factors that might contribute to the housing price.\n",
    "\n",
    "**Conclusion**:\n",
    "\n",
    "We are confident that the world will be a more equitable and sustainable place under the assumption that our data sources represent different demographics and regions fairly, and the world is a better place when housing prices are low and equitable across demographics."
   ]
  },
  {
   "attachments": {},
   "cell_type": "markdown",
   "metadata": {},
   "source": [
    "### **Materials and Methods**\n",
    "\n",
    "#### **Data**\n",
    "\n",
    "There are two main data resources: Zillow nad US census. We also collected other explanatory predictors such as land area and geospatial information (longitude & latitude) from other sources.\n",
    "\n",
    "The US census data is from the PUMS, 2005-2021. This dataset contains information from the Census Bureau about individual people or housing units. We believe it is a representative and authoritative source of information for various demographic and economic factors that can influence housing prices and affordability. Zillow Housing Data is a collection of datasets from Zillow, a real-estate marketplace company. It contains features include housing prices, rental prices, city, state, number of bedrooms, etc.\n",
    "\n",
    "#### **Approach**\n",
    "\n",
    "This is the primary section where you should describe what you did. Carefully describe:"
   ]
  },
  {
   "attachments": {},
   "cell_type": "markdown",
   "metadata": {},
   "source": [
    "### **Results**\n",
    "\n",
    "."
   ]
  },
  {
   "attachments": {},
   "cell_type": "markdown",
   "metadata": {},
   "source": [
    "### **Concluding Discussion**\n",
    "\n",
    "."
   ]
  },
  {
   "attachments": {},
   "cell_type": "markdown",
   "metadata": {},
   "source": [
    "### **Group Contributions Statement**\n",
    "\n",
    "."
   ]
  },
  {
   "attachments": {},
   "cell_type": "markdown",
   "metadata": {},
   "source": [
    "### **Personal Reflection**\n",
    "\n",
    "."
   ]
  }
 ],
 "metadata": {
  "kernelspec": {
   "display_name": "ml-0451",
   "language": "python",
   "name": "python3"
  },
  "language_info": {
   "codemirror_mode": {
    "name": "ipython",
    "version": 3
   },
   "file_extension": ".py",
   "mimetype": "text/x-python",
   "name": "python",
   "nbconvert_exporter": "python",
   "pygments_lexer": "ipython3",
   "version": "3.9.16"
  },
  "vscode": {
   "interpreter": {
    "hash": "377fafc4a20fb893127b312a3a12f6544be0c3fc88af816dfd46c5c647bed339"
   }
  }
 },
 "nbformat": 4,
 "nbformat_minor": 4
}
