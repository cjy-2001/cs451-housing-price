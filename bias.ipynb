{
 "cells": [
  {
   "cell_type": "code",
   "execution_count": null,
   "metadata": {},
   "outputs": [],
   "source": [
    "import pandas as pd\n",
    "import numpy as np\n",
    "import warnings\n",
    "warnings.filterwarnings('ignore')\n",
    "\n",
    "df = pd.read_csv('datasets/merged.csv')\n",
    "\n",
    "from sklearn.model_selection import train_test_split\n",
    "\n",
    "df = df.dropna(subset=[\"zhvi_2021\"])\n",
    "\n",
    "X_cols = [\"B01003_001E\", \"B08134_001E\", \"B15012_001E\", \"B19013_001E\", \"B23025_005E\", \"B25001_001E\", \"B25002_002E\", \"ALAND\", \"AWATER\", \"INTPTLAT\", \"INTPTLONG\"]\n",
    "y_cols = [\"zhvi_2021\"]\n",
    "\n",
    "X_train, X_test, y_train, y_test = train_test_split(\n",
    "    df[X_cols], df[y_cols], test_size=0.25, random_state=42)"
   ]
  }
 ],
 "metadata": {
  "language_info": {
   "name": "python"
  },
  "orig_nbformat": 4
 },
 "nbformat": 4,
 "nbformat_minor": 2
}
